{
 "cells": [
  {
   "cell_type": "markdown",
   "metadata": {},
   "source": [
    "# Dual channel oscilloscope"
   ]
  },
  {
   "cell_type": "markdown",
   "metadata": {},
   "source": [
    "This example shows how a signal can be captured using a dual channel oscilloscope.\n",
    "\n",
    "**Note:**  \n",
    "Voltage range of fast analog inputs on the Red Pitaya depends on gain setting that can be set by jumpers. HV setting is for input range to ±20V, while LV sets input range to ±1V. For more information please read the following [chapter](http://redpitaya.readthedocs.io/en/latest/doc/developerGuide/125-14/fastIO.html#analog-inputs). "
   ]
  },
  {
   "cell_type": "markdown",
   "metadata": {},
   "source": [
    "Create a loop back from fast outputs to the fast inputs as shown in the picture below.  \n",
    "Make sure that *gain setting* is set to ±1V (LV).\n",
    "\n",
    "![Fast loop back](img/FastIOLoopBack.png \"Example of the fast loop back.\")\n",
    "\n",
    "Now start generation of the signal from the [generator notebook](gen_sync_two_channel.ipynb). Execute all cells except the last one which will disable the outputs. It is recommended that you run it when you finish with this example."
   ]
  },
  {
   "cell_type": "code",
   "execution_count": 1,
   "metadata": {
    "collapsed": true
   },
   "outputs": [],
   "source": [
    "import json, time\n",
    "import paho.mqtt.publish as publish\n",
    "def sendMessage(**kwargs):\n",
    "    #print('called')\n",
    "    valDict = kwargs\n",
    "    valDict['messageid'] = 'beamOn'\n",
    "    #valDict['timestamp'] = time.time()\n",
    "    msgjson = json.dumps(valDict)\n",
    "    #print('called2')\n",
    "#     with open(\"messageRecord.txt\", 'w+') as f:\n",
    "#         f.write(msgjson)\n",
    "    publish.single('Tiago/ISIS/vals', msgjson,\n",
    "                hostname='icxparrot.isis.rl.ac.uk',port=1883,\n",
    "                client_id='vista_pub_synctest2',\n",
    "                auth={'username':'controls', 'password':'controls'})\n",
    "        \n",
    "#vista/set/test2/an_int/values"
   ]
  },
  {
   "cell_type": "code",
   "execution_count": 105,
   "metadata": {},
   "outputs": [
    {
     "data": {
      "text/plain": [
       "1575372939.776914"
      ]
     },
     "execution_count": 105,
     "metadata": {},
     "output_type": "execute_result"
    }
   ],
   "source": [
    "# msgjson = json.dumps({\"value\": 93, \"messageid\":\"1345\", \"timestamp\":time.time()})\n",
    " \n",
    "# publish.single('vista/set/test2/an_int/value', msgjson,\n",
    "#             hostname='icxparrot.isis.rl.ac.uk',port=1883,\n",
    "#             client_id='vista_pub_synctest2',\n",
    "#             auth={'username':'controls', 'password':'controls'})\n",
    "\n",
    "\n",
    "\n",
    "# time.time()"
   ]
  },
  {
   "cell_type": "code",
   "execution_count": 2,
   "metadata": {
    "scrolled": false
   },
   "outputs": [
    {
     "name": "stdout",
     "output_type": "stream",
     "text": [
      "Requested overlay is already loaded.\n"
     ]
    }
   ],
   "source": [
    "import matplotlib.pyplot as plt\n",
    "import time\n",
    "from redpitaya.overlay.mercury import mercury as overlay\n",
    "fpga = overlay()"
   ]
  },
  {
   "cell_type": "markdown",
   "metadata": {},
   "source": [
    "Make instance of both oscilloscope channels."
   ]
  },
  {
   "cell_type": "code",
   "execution_count": 3,
   "metadata": {
    "collapsed": true
   },
   "outputs": [],
   "source": [
    "osc0 = fpga.osc(0, 20.0)\n",
    "osc1 = fpga.osc(1, 20.0) \n",
    "osc = [osc0,osc1]\n",
    "la = fpga.la()"
   ]
  },
  {
   "cell_type": "code",
   "execution_count": 4,
   "metadata": {
    "collapsed": true
   },
   "outputs": [],
   "source": [
    "# input mask and polarity\n",
    "la.input_mask     = 0xffff\n",
    "la.input_polarity = 0x0000\n",
    "\n",
    "# data rate decimation\n",
    "la.decimation = 1\n",
    "\n",
    "# trigger timing [sample periods]\n",
    "N = la.buffer_size\n",
    "la.trigger_pre  = N//4 * 1\n",
    "la.trigger_post = N//4 * 3\n",
    "\n",
    "# trigger bit mask, bit values and edges ['neg', 'pos']\n",
    "la.trigger_mask  =  0x0000\n",
    "la.trigger_value =  0x0000\n",
    "la.trigger_edge  = [0x0100, 0x0000]  # enable trigger on edge [pos, neg]\n",
    "\n",
    "# trigger source is the level trigger from the same input\n",
    "la.trig_src = fpga.trig_src[\"la\"]"
   ]
  },
  {
   "cell_type": "markdown",
   "metadata": {},
   "source": [
    "User should specify the same timing settings for both channels:\n",
    "1. Sample rate decimation is an integer in range [1, 2\\*\\*17] = [1, 131072].\n",
    "2. Number of samples stored before and after trigger, for a forced trigger only post trigger samples are enough.\n",
    "\n",
    "Both channels should also have the same synchronization setting.\n",
    "This enables controlling reset/start/stop/trigger events for both channels by calling control functions for a single channel."
   ]
  },
  {
   "cell_type": "code",
   "execution_count": 5,
   "metadata": {
    "collapsed": true
   },
   "outputs": [],
   "source": [
    "osc0.decimation = 125\n",
    "N = 1200#ch.buffer_size   # 1200 points at 1 us captures 1.2 ms of pulse data\n",
    "osc0.trigger_pre  = 1*N//12\n",
    "osc0.trigger_post = 11*N//12\n",
    "\n",
    "# osc1.decimation = 125\n",
    "# osc1.trigger_pre  = 1*N//12\n",
    "# osc1.trigger_post = 11*N//12\n",
    "\n",
    "# # osc[1] is controlling both channels\n",
    "# osc1.sync_src = fpga.sync_src[\"osc0\"]\n",
    "\n",
    "fundamentalSampleRate = 8e-9\n",
    "sampleRate = fundamentalSampleRate*osc[0].decimation\n",
    "captureDuration = sampleRate*N\n"
   ]
  },
  {
   "cell_type": "code",
   "execution_count": 6,
   "metadata": {},
   "outputs": [
    {
     "data": {
      "text/plain": [
       "0.0012000000000000001"
      ]
     },
     "execution_count": 6,
     "metadata": {},
     "output_type": "execute_result"
    }
   ],
   "source": [
    "captureDuration\n"
   ]
  },
  {
   "cell_type": "markdown",
   "metadata": {},
   "source": [
    "Trigger level settings can be configured for each channel separately."
   ]
  },
  {
   "cell_type": "code",
   "execution_count": 6,
   "metadata": {
    "collapsed": true
   },
   "outputs": [],
   "source": [
    "# trigger level [V], edge ['neg', 'pos']\n",
    "# hysteresis is used to avoid triggering on wrong edge with noisy signals\n",
    "\n",
    "# trigger on 0.5V but do not trigger again unless signal first falls below 0.45V\n",
    "osc[0].level = [0.1, 0.2]\n",
    "osc[0].edge  = 'pos'\n",
    "\n",
    "# trigger on -0.2V but do not trigger again unless signal first rises above -0.15V\n",
    "# osc[1].level = [0.9, 1]\n",
    "# osc[1].edge  = 'pos'"
   ]
  },
  {
   "cell_type": "markdown",
   "metadata": {},
   "source": [
    "Both channels should have the same trigger source which should be one of the channels. Only trigger level settings for the selected channel are relevant."
   ]
  },
  {
   "cell_type": "code",
   "execution_count": 7,
   "metadata": {
    "collapsed": true
   },
   "outputs": [],
   "source": [
    "# for ch in osc:\n",
    "#     ch.trig_src = fpga.trig_src[\"la\"]\n",
    "osc[0].trig_src = fpga.trig_src[\"la\"]"
   ]
  },
  {
   "cell_type": "markdown",
   "metadata": {},
   "source": [
    "The oscilloscope should be reset and started by calling functions from the master oscilloscope module.\n",
    "A loop is checking if a hardware trigger has arrived and if the desired number of data samples was already stored in the buffer. Since both channels were programmed with the same timing setting they both stop at the same time.\n",
    "\n",
    "Data should be read from both channels.\n"
   ]
  },
  {
   "cell_type": "code",
   "execution_count": null,
   "metadata": {
    "scrolled": true
   },
   "outputs": [],
   "source": [
    "import numpy as np\n",
    "from datetime import datetime  \n",
    "\n",
    "while True:\n",
    "    beamTwoSecCounter = 0\n",
    "    for i in range(100):\n",
    "        osc[0].reset()\n",
    "        osc[0].start()\n",
    "        while (osc[0].status_run()): pass\n",
    "        beamarray = osc[0].data(N)\n",
    "        if (len(beamarray[(beamarray > -0.1)]) < 180): # identify bad pulses - if less than 800 points are below 0.5V, fail\n",
    "            beamTwoSecCounter = beamTwoSecCounter + 1\n",
    "             \n",
    "    sendMessage(value = beamTwoSecCounter, timestamp=time.time())\n",
    "\n",
    "    \n",
    "# tEnd = time.time()\n",
    "\n",
    "# fullTime = tEnd - tStart\n",
    "# triggerTime = tTrig - tStart\n",
    "# processingTime = tEnd - tTrig\n",
    "# print('total time: ' + str(fullTime) + ' triggerTime: ' + str(int(1e6*triggerTime)) + ' processing Time: ' + str(int(processingTime*1e6)))\n"
   ]
  },
  {
   "cell_type": "code",
   "execution_count": 11,
   "metadata": {},
   "outputs": [
    {
     "data": {
      "image/png": "[encoded data removed]",
      "text/plain": [
       "<matplotlib.figure.Figure at 0xab4fbe90>"
      ]
     },
     "metadata": {},
     "output_type": "display_data"
    }
   ],
   "source": [
    "plt.figure()\n",
    "\n",
    "plt.plot(beamarray)\n",
    "plt.show()\n",
    "\n",
    "#jupyter ncconvert --execute CopyPulseCounter.pynb"
   ]
  },
  {
   "cell_type": "code",
   "execution_count": null,
   "metadata": {
    "collapsed": true
   },
   "outputs": [],
   "source": []
  }
 ],
 "metadata": {
  "kernelspec": {
   "display_name": "Python 3",
   "language": "python",
   "name": "python3"
  },
  "language_info": {
   "codemirror_mode": {
    "name": "ipython",
    "version": 3
   },
   "file_extension": ".py",
   "mimetype": "text/x-python",
   "name": "python",
   "nbconvert_exporter": "python",
   "pygments_lexer": "ipython3",
   "version": "3.5.2"
  }
 },
 "nbformat": 4,
 "nbformat_minor": 2
}
